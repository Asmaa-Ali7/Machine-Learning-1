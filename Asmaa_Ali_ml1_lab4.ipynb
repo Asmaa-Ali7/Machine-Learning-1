{
  "nbformat": 4,
  "nbformat_minor": 0,
  "metadata": {
    "colab": {
      "provenance": []
    },
    "kernelspec": {
      "name": "python3",
      "display_name": "Python 3"
    },
    "language_info": {
      "name": "python"
    }
  },
  "cells": [
    {
      "cell_type": "markdown",
      "source": [
        "$$ ITI \\space AI-Pro: \\space Intake \\space 44 $$\n",
        "$$ Machine \\space Learning \\space 1 $$\n",
        "$$ Lab \\space no. \\space 4 $$"
      ],
      "metadata": {
        "id": "Sc7qmOFr6i2Z"
      }
    },
    {
      "cell_type": "markdown",
      "source": [
        "# `01` Import Necessary Libraries"
      ],
      "metadata": {
        "id": "2tiys70369Bd"
      }
    },
    {
      "cell_type": "markdown",
      "source": [
        "## `i` Default Libraries"
      ],
      "metadata": {
        "id": "UwHbrH6l9Y3A"
      }
    },
    {
      "cell_type": "code",
      "execution_count": 1,
      "metadata": {
        "id": "1tSITKud4F0n"
      },
      "outputs": [],
      "source": [
        "import numpy as np\n",
        "import pandas as pd\n",
        "\n",
        "import matplotlib.pyplot as plt\n",
        "import seaborn as sns"
      ]
    },
    {
      "cell_type": "markdown",
      "source": [
        "## `ii` Additional Libraries\n",
        "Add imports for additional libraries you used throughout the notebook"
      ],
      "metadata": {
        "id": "4St58qO89bae"
      }
    },
    {
      "cell_type": "code",
      "source": [
        "import sklearn\n",
        "import numpy as np\n",
        "%matplotlib inline\n",
        "import matplotlib as mpl\n",
        "import matplotlib.pyplot as plt\n",
        "from sklearn.metrics import classification_report\n",
        "from sklearn import svm\n",
        "from sklearn.svm import LinearSVC\n",
        "from sklearn.metrics import log_loss\n"
      ],
      "metadata": {
        "id": "zipMCQxV9oic"
      },
      "execution_count": 2,
      "outputs": []
    },
    {
      "cell_type": "markdown",
      "source": [
        "----------------------------\n",
        "\n",
        "# `02` Load Data\n",
        "\n",
        "Note: Make sure the `Data` folder attached with the notebook is in the same path for this cell to work properly.\n",
        "\n",
        "[Dataset Link](https://www.kaggle.com/datasets/parisrohan/credit-score-classification)"
      ],
      "metadata": {
        "id": "6Rp9SKDF7AsT"
      }
    },
    {
      "cell_type": "code",
      "source": [
        "train = pd.read_csv('prepared_train_data .csv')\n",
        "test = pd.read_csv('prepared_test_data.csv')\n"
      ],
      "metadata": {
        "id": "tqe9Lt1l7CX2"
      },
      "execution_count": 3,
      "outputs": []
    },
    {
      "cell_type": "markdown",
      "source": [
        "----------------\n",
        "\n",
        "# `03` Exploratory Data Analysis (EDA)"
      ],
      "metadata": {
        "id": "tKlBv0YR90G3"
      }
    },
    {
      "cell_type": "markdown",
      "source": [
        "## `i` Simple Analysis\n",
        "\n",
        "Preview data, perform statistical data analysis and explore as much as needed to better understand the data set we're dealing with.\n",
        "\n",
        "`Notes:`\n",
        "- Feel free to look up EDA approaches online for inspiration (however you **must understand** everything and not copy paste).\n",
        "- Make sure to add notes and insights extracted from your analysis.\n"
      ],
      "metadata": {
        "id": "8k61ceWr_BL5"
      }
    },
    {
      "cell_type": "code",
      "source": [
        "df_train = train.copy()\n",
        "df_train"
      ],
      "metadata": {
        "colab": {
          "base_uri": "https://localhost:8080/",
          "height": 443
        },
        "id": "_jL3GAu7o-Ch",
        "outputId": "a0cda7f1-0132-400d-c06f-1f627a094ac0"
      },
      "execution_count": 4,
      "outputs": [
        {
          "output_type": "execute_result",
          "data": {
            "text/plain": [
              "        Age  Annual_Income  Interest_Rate  Num_of_Loan  Delay_from_due_date  \\\n",
              "0      42.0      56370.980              3       -100.0                 18.0   \n",
              "1      28.0      15806.695              6          2.0                 12.0   \n",
              "2      36.0      19744.640             34          3.0                 17.0   \n",
              "3      38.0      61648.240             15          8.0                 33.0   \n",
              "4      38.0     139664.960             12          4.0                 14.0   \n",
              "...     ...            ...            ...          ...                  ...   \n",
              "46505  37.0      70709.040             20          6.0                  9.0   \n",
              "46506  23.0      31795.080             23          7.0                 33.0   \n",
              "46507  36.0     101316.640              9          3.0                 16.0   \n",
              "46508  28.0      79649.310              9          3.0                 14.0   \n",
              "46509  39.0      83384.200             24          3.0                 27.0   \n",
              "\n",
              "       Num_of_Delayed_Payment  Outstanding_Debt  Credit_History_Age  \\\n",
              "0                         2.0            726.60                18.1   \n",
              "1                        10.0           1204.86                31.4   \n",
              "2                        13.0           1262.89                17.9   \n",
              "3                        18.0           4129.59                 3.4   \n",
              "4                        12.0            365.66                30.0   \n",
              "...                       ...               ...                 ...   \n",
              "46505                    15.0            805.64                16.1   \n",
              "46506                    16.0           2053.98                 8.3   \n",
              "46507                    18.0            559.18                18.4   \n",
              "46508                    12.0            821.35                27.9   \n",
              "46509                    11.0           2613.85                12.6   \n",
              "\n",
              "       Total_EMI_per_month  Monthly_Balance  ...   10   11   12   13   14  \\\n",
              "0               180.810295       260.009010  ...  0.0  0.0  0.0  0.0  0.0   \n",
              "1                18.137630       324.928159  ...  0.0  0.0  0.0  0.0  0.0   \n",
              "2                28.521276       296.752799  ...  0.0  0.0  0.0  1.0  0.0   \n",
              "3               358.996715       181.757565  ...  0.0  0.0  0.0  0.0  0.0   \n",
              "4               423.731016       182.547539  ...  1.0  0.0  0.0  0.0  0.0   \n",
              "...                    ...              ...  ...  ...  ...  ...  ...  ...   \n",
              "46505           260.883512       320.670329  ...  0.0  0.0  0.0  0.0  0.0   \n",
              "46506           360.768878       195.139674  ...  0.0  1.0  0.0  0.0  0.0   \n",
              "46507           166.272881       411.553626  ...  0.0  0.0  0.0  0.0  0.0   \n",
              "46508         12426.000000       665.837625  ...  0.0  0.0  0.0  0.0  0.0   \n",
              "46509           112.010415       730.433433  ...  0.0  0.0  0.0  0.0  0.0   \n",
              "\n",
              "       0.1  1.1  2.1  0.2  0.3  \n",
              "0      0.0  1.0  0.0  0.0  0.0  \n",
              "1      0.0  1.0  0.0  1.0  2.0  \n",
              "2      1.0  0.0  0.0  3.0  0.0  \n",
              "3      0.0  0.0  1.0  3.0  1.0  \n",
              "4      0.0  0.0  1.0  2.0  1.0  \n",
              "...    ...  ...  ...  ...  ...  \n",
              "46505  0.0  0.0  1.0  1.0  1.0  \n",
              "46506  0.0  0.0  1.0  1.0  0.0  \n",
              "46507  0.0  1.0  0.0  3.0  1.0  \n",
              "46508  0.0  1.0  0.0  4.0  2.0  \n",
              "46509  0.0  0.0  1.0  5.0  1.0  \n",
              "\n",
              "[46510 rows x 30 columns]"
            ],
            "text/html": [
              "\n",
              "  <div id=\"df-a6ace5bf-3aa4-4940-b36e-45c61ab2c434\" class=\"colab-df-container\">\n",
              "    <div>\n",
              "<style scoped>\n",
              "    .dataframe tbody tr th:only-of-type {\n",
              "        vertical-align: middle;\n",
              "    }\n",
              "\n",
              "    .dataframe tbody tr th {\n",
              "        vertical-align: top;\n",
              "    }\n",
              "\n",
              "    .dataframe thead th {\n",
              "        text-align: right;\n",
              "    }\n",
              "</style>\n",
              "<table border=\"1\" class=\"dataframe\">\n",
              "  <thead>\n",
              "    <tr style=\"text-align: right;\">\n",
              "      <th></th>\n",
              "      <th>Age</th>\n",
              "      <th>Annual_Income</th>\n",
              "      <th>Interest_Rate</th>\n",
              "      <th>Num_of_Loan</th>\n",
              "      <th>Delay_from_due_date</th>\n",
              "      <th>Num_of_Delayed_Payment</th>\n",
              "      <th>Outstanding_Debt</th>\n",
              "      <th>Credit_History_Age</th>\n",
              "      <th>Total_EMI_per_month</th>\n",
              "      <th>Monthly_Balance</th>\n",
              "      <th>...</th>\n",
              "      <th>10</th>\n",
              "      <th>11</th>\n",
              "      <th>12</th>\n",
              "      <th>13</th>\n",
              "      <th>14</th>\n",
              "      <th>0.1</th>\n",
              "      <th>1.1</th>\n",
              "      <th>2.1</th>\n",
              "      <th>0.2</th>\n",
              "      <th>0.3</th>\n",
              "    </tr>\n",
              "  </thead>\n",
              "  <tbody>\n",
              "    <tr>\n",
              "      <th>0</th>\n",
              "      <td>42.0</td>\n",
              "      <td>56370.980</td>\n",
              "      <td>3</td>\n",
              "      <td>-100.0</td>\n",
              "      <td>18.0</td>\n",
              "      <td>2.0</td>\n",
              "      <td>726.60</td>\n",
              "      <td>18.1</td>\n",
              "      <td>180.810295</td>\n",
              "      <td>260.009010</td>\n",
              "      <td>...</td>\n",
              "      <td>0.0</td>\n",
              "      <td>0.0</td>\n",
              "      <td>0.0</td>\n",
              "      <td>0.0</td>\n",
              "      <td>0.0</td>\n",
              "      <td>0.0</td>\n",
              "      <td>1.0</td>\n",
              "      <td>0.0</td>\n",
              "      <td>0.0</td>\n",
              "      <td>0.0</td>\n",
              "    </tr>\n",
              "    <tr>\n",
              "      <th>1</th>\n",
              "      <td>28.0</td>\n",
              "      <td>15806.695</td>\n",
              "      <td>6</td>\n",
              "      <td>2.0</td>\n",
              "      <td>12.0</td>\n",
              "      <td>10.0</td>\n",
              "      <td>1204.86</td>\n",
              "      <td>31.4</td>\n",
              "      <td>18.137630</td>\n",
              "      <td>324.928159</td>\n",
              "      <td>...</td>\n",
              "      <td>0.0</td>\n",
              "      <td>0.0</td>\n",
              "      <td>0.0</td>\n",
              "      <td>0.0</td>\n",
              "      <td>0.0</td>\n",
              "      <td>0.0</td>\n",
              "      <td>1.0</td>\n",
              "      <td>0.0</td>\n",
              "      <td>1.0</td>\n",
              "      <td>2.0</td>\n",
              "    </tr>\n",
              "    <tr>\n",
              "      <th>2</th>\n",
              "      <td>36.0</td>\n",
              "      <td>19744.640</td>\n",
              "      <td>34</td>\n",
              "      <td>3.0</td>\n",
              "      <td>17.0</td>\n",
              "      <td>13.0</td>\n",
              "      <td>1262.89</td>\n",
              "      <td>17.9</td>\n",
              "      <td>28.521276</td>\n",
              "      <td>296.752799</td>\n",
              "      <td>...</td>\n",
              "      <td>0.0</td>\n",
              "      <td>0.0</td>\n",
              "      <td>0.0</td>\n",
              "      <td>1.0</td>\n",
              "      <td>0.0</td>\n",
              "      <td>1.0</td>\n",
              "      <td>0.0</td>\n",
              "      <td>0.0</td>\n",
              "      <td>3.0</td>\n",
              "      <td>0.0</td>\n",
              "    </tr>\n",
              "    <tr>\n",
              "      <th>3</th>\n",
              "      <td>38.0</td>\n",
              "      <td>61648.240</td>\n",
              "      <td>15</td>\n",
              "      <td>8.0</td>\n",
              "      <td>33.0</td>\n",
              "      <td>18.0</td>\n",
              "      <td>4129.59</td>\n",
              "      <td>3.4</td>\n",
              "      <td>358.996715</td>\n",
              "      <td>181.757565</td>\n",
              "      <td>...</td>\n",
              "      <td>0.0</td>\n",
              "      <td>0.0</td>\n",
              "      <td>0.0</td>\n",
              "      <td>0.0</td>\n",
              "      <td>0.0</td>\n",
              "      <td>0.0</td>\n",
              "      <td>0.0</td>\n",
              "      <td>1.0</td>\n",
              "      <td>3.0</td>\n",
              "      <td>1.0</td>\n",
              "    </tr>\n",
              "    <tr>\n",
              "      <th>4</th>\n",
              "      <td>38.0</td>\n",
              "      <td>139664.960</td>\n",
              "      <td>12</td>\n",
              "      <td>4.0</td>\n",
              "      <td>14.0</td>\n",
              "      <td>12.0</td>\n",
              "      <td>365.66</td>\n",
              "      <td>30.0</td>\n",
              "      <td>423.731016</td>\n",
              "      <td>182.547539</td>\n",
              "      <td>...</td>\n",
              "      <td>1.0</td>\n",
              "      <td>0.0</td>\n",
              "      <td>0.0</td>\n",
              "      <td>0.0</td>\n",
              "      <td>0.0</td>\n",
              "      <td>0.0</td>\n",
              "      <td>0.0</td>\n",
              "      <td>1.0</td>\n",
              "      <td>2.0</td>\n",
              "      <td>1.0</td>\n",
              "    </tr>\n",
              "    <tr>\n",
              "      <th>...</th>\n",
              "      <td>...</td>\n",
              "      <td>...</td>\n",
              "      <td>...</td>\n",
              "      <td>...</td>\n",
              "      <td>...</td>\n",
              "      <td>...</td>\n",
              "      <td>...</td>\n",
              "      <td>...</td>\n",
              "      <td>...</td>\n",
              "      <td>...</td>\n",
              "      <td>...</td>\n",
              "      <td>...</td>\n",
              "      <td>...</td>\n",
              "      <td>...</td>\n",
              "      <td>...</td>\n",
              "      <td>...</td>\n",
              "      <td>...</td>\n",
              "      <td>...</td>\n",
              "      <td>...</td>\n",
              "      <td>...</td>\n",
              "      <td>...</td>\n",
              "    </tr>\n",
              "    <tr>\n",
              "      <th>46505</th>\n",
              "      <td>37.0</td>\n",
              "      <td>70709.040</td>\n",
              "      <td>20</td>\n",
              "      <td>6.0</td>\n",
              "      <td>9.0</td>\n",
              "      <td>15.0</td>\n",
              "      <td>805.64</td>\n",
              "      <td>16.1</td>\n",
              "      <td>260.883512</td>\n",
              "      <td>320.670329</td>\n",
              "      <td>...</td>\n",
              "      <td>0.0</td>\n",
              "      <td>0.0</td>\n",
              "      <td>0.0</td>\n",
              "      <td>0.0</td>\n",
              "      <td>0.0</td>\n",
              "      <td>0.0</td>\n",
              "      <td>0.0</td>\n",
              "      <td>1.0</td>\n",
              "      <td>1.0</td>\n",
              "      <td>1.0</td>\n",
              "    </tr>\n",
              "    <tr>\n",
              "      <th>46506</th>\n",
              "      <td>23.0</td>\n",
              "      <td>31795.080</td>\n",
              "      <td>23</td>\n",
              "      <td>7.0</td>\n",
              "      <td>33.0</td>\n",
              "      <td>16.0</td>\n",
              "      <td>2053.98</td>\n",
              "      <td>8.3</td>\n",
              "      <td>360.768878</td>\n",
              "      <td>195.139674</td>\n",
              "      <td>...</td>\n",
              "      <td>0.0</td>\n",
              "      <td>1.0</td>\n",
              "      <td>0.0</td>\n",
              "      <td>0.0</td>\n",
              "      <td>0.0</td>\n",
              "      <td>0.0</td>\n",
              "      <td>0.0</td>\n",
              "      <td>1.0</td>\n",
              "      <td>1.0</td>\n",
              "      <td>0.0</td>\n",
              "    </tr>\n",
              "    <tr>\n",
              "      <th>46507</th>\n",
              "      <td>36.0</td>\n",
              "      <td>101316.640</td>\n",
              "      <td>9</td>\n",
              "      <td>3.0</td>\n",
              "      <td>16.0</td>\n",
              "      <td>18.0</td>\n",
              "      <td>559.18</td>\n",
              "      <td>18.4</td>\n",
              "      <td>166.272881</td>\n",
              "      <td>411.553626</td>\n",
              "      <td>...</td>\n",
              "      <td>0.0</td>\n",
              "      <td>0.0</td>\n",
              "      <td>0.0</td>\n",
              "      <td>0.0</td>\n",
              "      <td>0.0</td>\n",
              "      <td>0.0</td>\n",
              "      <td>1.0</td>\n",
              "      <td>0.0</td>\n",
              "      <td>3.0</td>\n",
              "      <td>1.0</td>\n",
              "    </tr>\n",
              "    <tr>\n",
              "      <th>46508</th>\n",
              "      <td>28.0</td>\n",
              "      <td>79649.310</td>\n",
              "      <td>9</td>\n",
              "      <td>3.0</td>\n",
              "      <td>14.0</td>\n",
              "      <td>12.0</td>\n",
              "      <td>821.35</td>\n",
              "      <td>27.9</td>\n",
              "      <td>12426.000000</td>\n",
              "      <td>665.837625</td>\n",
              "      <td>...</td>\n",
              "      <td>0.0</td>\n",
              "      <td>0.0</td>\n",
              "      <td>0.0</td>\n",
              "      <td>0.0</td>\n",
              "      <td>0.0</td>\n",
              "      <td>0.0</td>\n",
              "      <td>1.0</td>\n",
              "      <td>0.0</td>\n",
              "      <td>4.0</td>\n",
              "      <td>2.0</td>\n",
              "    </tr>\n",
              "    <tr>\n",
              "      <th>46509</th>\n",
              "      <td>39.0</td>\n",
              "      <td>83384.200</td>\n",
              "      <td>24</td>\n",
              "      <td>3.0</td>\n",
              "      <td>27.0</td>\n",
              "      <td>11.0</td>\n",
              "      <td>2613.85</td>\n",
              "      <td>12.6</td>\n",
              "      <td>112.010415</td>\n",
              "      <td>730.433433</td>\n",
              "      <td>...</td>\n",
              "      <td>0.0</td>\n",
              "      <td>0.0</td>\n",
              "      <td>0.0</td>\n",
              "      <td>0.0</td>\n",
              "      <td>0.0</td>\n",
              "      <td>0.0</td>\n",
              "      <td>0.0</td>\n",
              "      <td>1.0</td>\n",
              "      <td>5.0</td>\n",
              "      <td>1.0</td>\n",
              "    </tr>\n",
              "  </tbody>\n",
              "</table>\n",
              "<p>46510 rows × 30 columns</p>\n",
              "</div>\n",
              "    <div class=\"colab-df-buttons\">\n",
              "\n",
              "  <div class=\"colab-df-container\">\n",
              "    <button class=\"colab-df-convert\" onclick=\"convertToInteractive('df-a6ace5bf-3aa4-4940-b36e-45c61ab2c434')\"\n",
              "            title=\"Convert this dataframe to an interactive table.\"\n",
              "            style=\"display:none;\">\n",
              "\n",
              "  <svg xmlns=\"http://www.w3.org/2000/svg\" height=\"24px\" viewBox=\"0 -960 960 960\">\n",
              "    <path d=\"M120-120v-720h720v720H120Zm60-500h600v-160H180v160Zm220 220h160v-160H400v160Zm0 220h160v-160H400v160ZM180-400h160v-160H180v160Zm440 0h160v-160H620v160ZM180-180h160v-160H180v160Zm440 0h160v-160H620v160Z\"/>\n",
              "  </svg>\n",
              "    </button>\n",
              "\n",
              "  <style>\n",
              "    .colab-df-container {\n",
              "      display:flex;\n",
              "      gap: 12px;\n",
              "    }\n",
              "\n",
              "    .colab-df-convert {\n",
              "      background-color: #E8F0FE;\n",
              "      border: none;\n",
              "      border-radius: 50%;\n",
              "      cursor: pointer;\n",
              "      display: none;\n",
              "      fill: #1967D2;\n",
              "      height: 32px;\n",
              "      padding: 0 0 0 0;\n",
              "      width: 32px;\n",
              "    }\n",
              "\n",
              "    .colab-df-convert:hover {\n",
              "      background-color: #E2EBFA;\n",
              "      box-shadow: 0px 1px 2px rgba(60, 64, 67, 0.3), 0px 1px 3px 1px rgba(60, 64, 67, 0.15);\n",
              "      fill: #174EA6;\n",
              "    }\n",
              "\n",
              "    .colab-df-buttons div {\n",
              "      margin-bottom: 4px;\n",
              "    }\n",
              "\n",
              "    [theme=dark] .colab-df-convert {\n",
              "      background-color: #3B4455;\n",
              "      fill: #D2E3FC;\n",
              "    }\n",
              "\n",
              "    [theme=dark] .colab-df-convert:hover {\n",
              "      background-color: #434B5C;\n",
              "      box-shadow: 0px 1px 3px 1px rgba(0, 0, 0, 0.15);\n",
              "      filter: drop-shadow(0px 1px 2px rgba(0, 0, 0, 0.3));\n",
              "      fill: #FFFFFF;\n",
              "    }\n",
              "  </style>\n",
              "\n",
              "    <script>\n",
              "      const buttonEl =\n",
              "        document.querySelector('#df-a6ace5bf-3aa4-4940-b36e-45c61ab2c434 button.colab-df-convert');\n",
              "      buttonEl.style.display =\n",
              "        google.colab.kernel.accessAllowed ? 'block' : 'none';\n",
              "\n",
              "      async function convertToInteractive(key) {\n",
              "        const element = document.querySelector('#df-a6ace5bf-3aa4-4940-b36e-45c61ab2c434');\n",
              "        const dataTable =\n",
              "          await google.colab.kernel.invokeFunction('convertToInteractive',\n",
              "                                                    [key], {});\n",
              "        if (!dataTable) return;\n",
              "\n",
              "        const docLinkHtml = 'Like what you see? Visit the ' +\n",
              "          '<a target=\"_blank\" href=https://colab.research.google.com/notebooks/data_table.ipynb>data table notebook</a>'\n",
              "          + ' to learn more about interactive tables.';\n",
              "        element.innerHTML = '';\n",
              "        dataTable['output_type'] = 'display_data';\n",
              "        await google.colab.output.renderOutput(dataTable, element);\n",
              "        const docLink = document.createElement('div');\n",
              "        docLink.innerHTML = docLinkHtml;\n",
              "        element.appendChild(docLink);\n",
              "      }\n",
              "    </script>\n",
              "  </div>\n",
              "\n",
              "\n",
              "<div id=\"df-ed1c4a1c-42d1-4b8d-bc7b-b722573e76f6\">\n",
              "  <button class=\"colab-df-quickchart\" onclick=\"quickchart('df-ed1c4a1c-42d1-4b8d-bc7b-b722573e76f6')\"\n",
              "            title=\"Suggest charts\"\n",
              "            style=\"display:none;\">\n",
              "\n",
              "<svg xmlns=\"http://www.w3.org/2000/svg\" height=\"24px\"viewBox=\"0 0 24 24\"\n",
              "     width=\"24px\">\n",
              "    <g>\n",
              "        <path d=\"M19 3H5c-1.1 0-2 .9-2 2v14c0 1.1.9 2 2 2h14c1.1 0 2-.9 2-2V5c0-1.1-.9-2-2-2zM9 17H7v-7h2v7zm4 0h-2V7h2v10zm4 0h-2v-4h2v4z\"/>\n",
              "    </g>\n",
              "</svg>\n",
              "  </button>\n",
              "\n",
              "<style>\n",
              "  .colab-df-quickchart {\n",
              "      --bg-color: #E8F0FE;\n",
              "      --fill-color: #1967D2;\n",
              "      --hover-bg-color: #E2EBFA;\n",
              "      --hover-fill-color: #174EA6;\n",
              "      --disabled-fill-color: #AAA;\n",
              "      --disabled-bg-color: #DDD;\n",
              "  }\n",
              "\n",
              "  [theme=dark] .colab-df-quickchart {\n",
              "      --bg-color: #3B4455;\n",
              "      --fill-color: #D2E3FC;\n",
              "      --hover-bg-color: #434B5C;\n",
              "      --hover-fill-color: #FFFFFF;\n",
              "      --disabled-bg-color: #3B4455;\n",
              "      --disabled-fill-color: #666;\n",
              "  }\n",
              "\n",
              "  .colab-df-quickchart {\n",
              "    background-color: var(--bg-color);\n",
              "    border: none;\n",
              "    border-radius: 50%;\n",
              "    cursor: pointer;\n",
              "    display: none;\n",
              "    fill: var(--fill-color);\n",
              "    height: 32px;\n",
              "    padding: 0;\n",
              "    width: 32px;\n",
              "  }\n",
              "\n",
              "  .colab-df-quickchart:hover {\n",
              "    background-color: var(--hover-bg-color);\n",
              "    box-shadow: 0 1px 2px rgba(60, 64, 67, 0.3), 0 1px 3px 1px rgba(60, 64, 67, 0.15);\n",
              "    fill: var(--button-hover-fill-color);\n",
              "  }\n",
              "\n",
              "  .colab-df-quickchart-complete:disabled,\n",
              "  .colab-df-quickchart-complete:disabled:hover {\n",
              "    background-color: var(--disabled-bg-color);\n",
              "    fill: var(--disabled-fill-color);\n",
              "    box-shadow: none;\n",
              "  }\n",
              "\n",
              "  .colab-df-spinner {\n",
              "    border: 2px solid var(--fill-color);\n",
              "    border-color: transparent;\n",
              "    border-bottom-color: var(--fill-color);\n",
              "    animation:\n",
              "      spin 1s steps(1) infinite;\n",
              "  }\n",
              "\n",
              "  @keyframes spin {\n",
              "    0% {\n",
              "      border-color: transparent;\n",
              "      border-bottom-color: var(--fill-color);\n",
              "      border-left-color: var(--fill-color);\n",
              "    }\n",
              "    20% {\n",
              "      border-color: transparent;\n",
              "      border-left-color: var(--fill-color);\n",
              "      border-top-color: var(--fill-color);\n",
              "    }\n",
              "    30% {\n",
              "      border-color: transparent;\n",
              "      border-left-color: var(--fill-color);\n",
              "      border-top-color: var(--fill-color);\n",
              "      border-right-color: var(--fill-color);\n",
              "    }\n",
              "    40% {\n",
              "      border-color: transparent;\n",
              "      border-right-color: var(--fill-color);\n",
              "      border-top-color: var(--fill-color);\n",
              "    }\n",
              "    60% {\n",
              "      border-color: transparent;\n",
              "      border-right-color: var(--fill-color);\n",
              "    }\n",
              "    80% {\n",
              "      border-color: transparent;\n",
              "      border-right-color: var(--fill-color);\n",
              "      border-bottom-color: var(--fill-color);\n",
              "    }\n",
              "    90% {\n",
              "      border-color: transparent;\n",
              "      border-bottom-color: var(--fill-color);\n",
              "    }\n",
              "  }\n",
              "</style>\n",
              "\n",
              "  <script>\n",
              "    async function quickchart(key) {\n",
              "      const quickchartButtonEl =\n",
              "        document.querySelector('#' + key + ' button');\n",
              "      quickchartButtonEl.disabled = true;  // To prevent multiple clicks.\n",
              "      quickchartButtonEl.classList.add('colab-df-spinner');\n",
              "      try {\n",
              "        const charts = await google.colab.kernel.invokeFunction(\n",
              "            'suggestCharts', [key], {});\n",
              "      } catch (error) {\n",
              "        console.error('Error during call to suggestCharts:', error);\n",
              "      }\n",
              "      quickchartButtonEl.classList.remove('colab-df-spinner');\n",
              "      quickchartButtonEl.classList.add('colab-df-quickchart-complete');\n",
              "    }\n",
              "    (() => {\n",
              "      let quickchartButtonEl =\n",
              "        document.querySelector('#df-ed1c4a1c-42d1-4b8d-bc7b-b722573e76f6 button');\n",
              "      quickchartButtonEl.style.display =\n",
              "        google.colab.kernel.accessAllowed ? 'block' : 'none';\n",
              "    })();\n",
              "  </script>\n",
              "</div>\n",
              "\n",
              "  <div id=\"id_a5bbb940-9c93-4b02-8360-c28be806624b\">\n",
              "    <style>\n",
              "      .colab-df-generate {\n",
              "        background-color: #E8F0FE;\n",
              "        border: none;\n",
              "        border-radius: 50%;\n",
              "        cursor: pointer;\n",
              "        display: none;\n",
              "        fill: #1967D2;\n",
              "        height: 32px;\n",
              "        padding: 0 0 0 0;\n",
              "        width: 32px;\n",
              "      }\n",
              "\n",
              "      .colab-df-generate:hover {\n",
              "        background-color: #E2EBFA;\n",
              "        box-shadow: 0px 1px 2px rgba(60, 64, 67, 0.3), 0px 1px 3px 1px rgba(60, 64, 67, 0.15);\n",
              "        fill: #174EA6;\n",
              "      }\n",
              "\n",
              "      [theme=dark] .colab-df-generate {\n",
              "        background-color: #3B4455;\n",
              "        fill: #D2E3FC;\n",
              "      }\n",
              "\n",
              "      [theme=dark] .colab-df-generate:hover {\n",
              "        background-color: #434B5C;\n",
              "        box-shadow: 0px 1px 3px 1px rgba(0, 0, 0, 0.15);\n",
              "        filter: drop-shadow(0px 1px 2px rgba(0, 0, 0, 0.3));\n",
              "        fill: #FFFFFF;\n",
              "      }\n",
              "    </style>\n",
              "    <button class=\"colab-df-generate\" onclick=\"generateWithVariable('df_train')\"\n",
              "            title=\"Generate code using this dataframe.\"\n",
              "            style=\"display:none;\">\n",
              "\n",
              "  <svg xmlns=\"http://www.w3.org/2000/svg\" height=\"24px\"viewBox=\"0 0 24 24\"\n",
              "       width=\"24px\">\n",
              "    <path d=\"M7,19H8.4L18.45,9,17,7.55,7,17.6ZM5,21V16.75L18.45,3.32a2,2,0,0,1,2.83,0l1.4,1.43a1.91,1.91,0,0,1,.58,1.4,1.91,1.91,0,0,1-.58,1.4L9.25,21ZM18.45,9,17,7.55Zm-12,3A5.31,5.31,0,0,0,4.9,8.1,5.31,5.31,0,0,0,1,6.5,5.31,5.31,0,0,0,4.9,4.9,5.31,5.31,0,0,0,6.5,1,5.31,5.31,0,0,0,8.1,4.9,5.31,5.31,0,0,0,12,6.5,5.46,5.46,0,0,0,6.5,12Z\"/>\n",
              "  </svg>\n",
              "    </button>\n",
              "    <script>\n",
              "      (() => {\n",
              "      const buttonEl =\n",
              "        document.querySelector('#id_a5bbb940-9c93-4b02-8360-c28be806624b button.colab-df-generate');\n",
              "      buttonEl.style.display =\n",
              "        google.colab.kernel.accessAllowed ? 'block' : 'none';\n",
              "\n",
              "      buttonEl.onclick = () => {\n",
              "        google.colab.notebook.generateWithVariable('df_train');\n",
              "      }\n",
              "      })();\n",
              "    </script>\n",
              "  </div>\n",
              "\n",
              "    </div>\n",
              "  </div>\n"
            ],
            "application/vnd.google.colaboratory.intrinsic+json": {
              "type": "dataframe",
              "variable_name": "df_train"
            }
          },
          "metadata": {},
          "execution_count": 4
        }
      ]
    },
    {
      "cell_type": "code",
      "source": [
        "#this data is prepared for the model\n"
      ],
      "metadata": {
        "id": "pM3JCzjH53sz"
      },
      "execution_count": 5,
      "outputs": []
    },
    {
      "cell_type": "markdown",
      "source": [
        "## `ii` Visual Analysis\n",
        "\n",
        "Plot graphs and relations in order to gain more insights about the data set, identify patterns, and make assumptions.\n",
        "\n",
        "`Notes:`\n",
        "- Feel free to look up visual EDA approaches online for inspiration (however you **must understand** everything and not copy paste).\n",
        "- Make sure to add notes and insights extracted from your analysis."
      ],
      "metadata": {
        "id": "skTWjM-OA0Ta"
      }
    },
    {
      "cell_type": "markdown",
      "source": [
        "----------------\n",
        "\n",
        "# `04` Data Preparation"
      ],
      "metadata": {
        "id": "4G4h2cqgB2oS"
      }
    },
    {
      "cell_type": "markdown",
      "source": [
        "Perform data cleaning, feature engineering, scaling, dropping unwanted columns (such as IDs), etc. as needed to make sure it's ready for the model.\n",
        "\n",
        "`Q` Is this dataset *skewed*?\n",
        "\n",
        "Hints:\n",
        "- It could be helpful to check `sklearn.preprocessing` module.\n",
        "- Remember that Support Vector Machine classifiers require special preprocessing."
      ],
      "metadata": {
        "id": "vzQUN2cIB84-"
      }
    },
    {
      "cell_type": "code",
      "source": [
        "x_train= df_train.iloc[:,:-1]\n",
        "y_train= pd.DataFrame(df_train.iloc[:,-1])"
      ],
      "metadata": {
        "id": "FnjvO7T8B8fk"
      },
      "execution_count": 6,
      "outputs": []
    },
    {
      "cell_type": "code",
      "source": [
        "from sklearn import preprocessing\n",
        "from sklearn.preprocessing import StandardScaler\n",
        "scaler = preprocessing.StandardScaler().fit(x_train)\n",
        "x_scaled = scaler.transform(x_train)"
      ],
      "metadata": {
        "id": "y9dmfybCwmWn"
      },
      "execution_count": 7,
      "outputs": []
    },
    {
      "cell_type": "markdown",
      "source": [
        "## `#` Prepare Test Set\n",
        "\n",
        "Apply the data transformations you used on the training set to the test set.\n",
        "\n",
        "**Important Note:** DO NOT use `fit` on the test set."
      ],
      "metadata": {
        "id": "H_wtV6UsDb86"
      }
    },
    {
      "cell_type": "code",
      "source": [
        "df_test = test.copy()\n",
        "df_test"
      ],
      "metadata": {
        "id": "IuozIU1jEBy5",
        "colab": {
          "base_uri": "https://localhost:8080/",
          "height": 443
        },
        "outputId": "97fe2d51-4fd2-47ee-b1ce-aacd81abba24"
      },
      "execution_count": 8,
      "outputs": [
        {
          "output_type": "execute_result",
          "data": {
            "text/plain": [
              "        Age  Annual_Income  Interest_Rate  Num_of_Loan  Delay_from_due_date  \\\n",
              "0      18.0       18888.46             18          7.0                 50.0   \n",
              "1      34.0       68183.84             27          7.0                 31.0   \n",
              "2      23.0       39447.48             31          6.0                 25.0   \n",
              "3      35.0       36857.22             14          2.0                 19.0   \n",
              "4      28.0       33787.30             34          6.0                 44.0   \n",
              "...     ...            ...            ...          ...                  ...   \n",
              "19825  27.0       10494.44              7          6.0                 14.0   \n",
              "19826  19.0       52797.30             33          5.0                 60.0   \n",
              "19827  21.0       16944.54             16          0.0                 17.0   \n",
              "19828  55.0      107677.98             12          2.0                 11.0   \n",
              "19829  47.0       19277.13             11          1.0                  6.0   \n",
              "\n",
              "       Num_of_Delayed_Payment  Outstanding_Debt  Credit_History_Age  \\\n",
              "0                        19.0           1543.58                14.1   \n",
              "1                        22.0           3341.21                11.5   \n",
              "2                        12.0           1924.32                14.9   \n",
              "3                        12.0           1911.65                10.1   \n",
              "4                        15.0           2813.15                 7.1   \n",
              "...                       ...               ...                 ...   \n",
              "19825                    11.0           2579.62                15.4   \n",
              "19826                    17.0           2563.97                 6.4   \n",
              "19827                    20.0           1066.99                32.4   \n",
              "19828                     9.0            877.65                25.8   \n",
              "19829                    14.0            935.74                22.1   \n",
              "\n",
              "       Total_EMI_per_month  Monthly_Balance  ...   10   11   12   13   14  \\\n",
              "0                69.043340       252.578696  ...  0.0  0.0  0.0  0.0  0.0   \n",
              "1               201.161510       403.873469  ...  0.0  0.0  1.0  0.0  0.0   \n",
              "2               194.422237        43.237271  ...  0.0  1.0  0.0  0.0  0.0   \n",
              "3                56.042521       170.966996  ...  1.0  0.0  0.0  0.0  0.0   \n",
              "4               101.553158       375.547953  ...  0.0  1.0  0.0  0.0  0.0   \n",
              "...                    ...              ...  ...  ...  ...  ...  ...  ...   \n",
              "19825            46.160211       294.909596  ...  0.0  0.0  0.0  0.0  0.0   \n",
              "19826           209.932888       121.005455  ...  0.0  0.0  1.0  0.0  0.0   \n",
              "19827             0.000000       349.141610  ...  0.0  0.0  0.0  0.0  0.0   \n",
              "19828            99.790794       141.859277  ...  0.0  0.0  0.0  0.0  0.0   \n",
              "19829             8.039939       390.555076  ...  0.0  0.0  0.0  0.0  0.0   \n",
              "\n",
              "       0.1  1.1  2.1  0.2  0.3  \n",
              "0      0.0  0.0  1.0  1.0  0.0  \n",
              "1      0.0  0.0  1.0  3.0  0.0  \n",
              "2      0.0  0.0  1.0  0.0  0.0  \n",
              "3      0.0  0.0  1.0  0.0  1.0  \n",
              "4      0.0  0.0  1.0  0.0  0.0  \n",
              "...    ...  ...  ...  ...  ...  \n",
              "19825  1.0  0.0  0.0  0.0  1.0  \n",
              "19826  1.0  0.0  0.0  1.0  0.0  \n",
              "19827  0.0  0.0  1.0  2.0  2.0  \n",
              "19828  0.0  1.0  0.0  0.0  1.0  \n",
              "19829  0.0  1.0  0.0  5.0  2.0  \n",
              "\n",
              "[19830 rows x 30 columns]"
            ],
            "text/html": [
              "\n",
              "  <div id=\"df-be1ae9b8-686e-4c1f-8f3e-a435bcfd92fd\" class=\"colab-df-container\">\n",
              "    <div>\n",
              "<style scoped>\n",
              "    .dataframe tbody tr th:only-of-type {\n",
              "        vertical-align: middle;\n",
              "    }\n",
              "\n",
              "    .dataframe tbody tr th {\n",
              "        vertical-align: top;\n",
              "    }\n",
              "\n",
              "    .dataframe thead th {\n",
              "        text-align: right;\n",
              "    }\n",
              "</style>\n",
              "<table border=\"1\" class=\"dataframe\">\n",
              "  <thead>\n",
              "    <tr style=\"text-align: right;\">\n",
              "      <th></th>\n",
              "      <th>Age</th>\n",
              "      <th>Annual_Income</th>\n",
              "      <th>Interest_Rate</th>\n",
              "      <th>Num_of_Loan</th>\n",
              "      <th>Delay_from_due_date</th>\n",
              "      <th>Num_of_Delayed_Payment</th>\n",
              "      <th>Outstanding_Debt</th>\n",
              "      <th>Credit_History_Age</th>\n",
              "      <th>Total_EMI_per_month</th>\n",
              "      <th>Monthly_Balance</th>\n",
              "      <th>...</th>\n",
              "      <th>10</th>\n",
              "      <th>11</th>\n",
              "      <th>12</th>\n",
              "      <th>13</th>\n",
              "      <th>14</th>\n",
              "      <th>0.1</th>\n",
              "      <th>1.1</th>\n",
              "      <th>2.1</th>\n",
              "      <th>0.2</th>\n",
              "      <th>0.3</th>\n",
              "    </tr>\n",
              "  </thead>\n",
              "  <tbody>\n",
              "    <tr>\n",
              "      <th>0</th>\n",
              "      <td>18.0</td>\n",
              "      <td>18888.46</td>\n",
              "      <td>18</td>\n",
              "      <td>7.0</td>\n",
              "      <td>50.0</td>\n",
              "      <td>19.0</td>\n",
              "      <td>1543.58</td>\n",
              "      <td>14.1</td>\n",
              "      <td>69.043340</td>\n",
              "      <td>252.578696</td>\n",
              "      <td>...</td>\n",
              "      <td>0.0</td>\n",
              "      <td>0.0</td>\n",
              "      <td>0.0</td>\n",
              "      <td>0.0</td>\n",
              "      <td>0.0</td>\n",
              "      <td>0.0</td>\n",
              "      <td>0.0</td>\n",
              "      <td>1.0</td>\n",
              "      <td>1.0</td>\n",
              "      <td>0.0</td>\n",
              "    </tr>\n",
              "    <tr>\n",
              "      <th>1</th>\n",
              "      <td>34.0</td>\n",
              "      <td>68183.84</td>\n",
              "      <td>27</td>\n",
              "      <td>7.0</td>\n",
              "      <td>31.0</td>\n",
              "      <td>22.0</td>\n",
              "      <td>3341.21</td>\n",
              "      <td>11.5</td>\n",
              "      <td>201.161510</td>\n",
              "      <td>403.873469</td>\n",
              "      <td>...</td>\n",
              "      <td>0.0</td>\n",
              "      <td>0.0</td>\n",
              "      <td>1.0</td>\n",
              "      <td>0.0</td>\n",
              "      <td>0.0</td>\n",
              "      <td>0.0</td>\n",
              "      <td>0.0</td>\n",
              "      <td>1.0</td>\n",
              "      <td>3.0</td>\n",
              "      <td>0.0</td>\n",
              "    </tr>\n",
              "    <tr>\n",
              "      <th>2</th>\n",
              "      <td>23.0</td>\n",
              "      <td>39447.48</td>\n",
              "      <td>31</td>\n",
              "      <td>6.0</td>\n",
              "      <td>25.0</td>\n",
              "      <td>12.0</td>\n",
              "      <td>1924.32</td>\n",
              "      <td>14.9</td>\n",
              "      <td>194.422237</td>\n",
              "      <td>43.237271</td>\n",
              "      <td>...</td>\n",
              "      <td>0.0</td>\n",
              "      <td>1.0</td>\n",
              "      <td>0.0</td>\n",
              "      <td>0.0</td>\n",
              "      <td>0.0</td>\n",
              "      <td>0.0</td>\n",
              "      <td>0.0</td>\n",
              "      <td>1.0</td>\n",
              "      <td>0.0</td>\n",
              "      <td>0.0</td>\n",
              "    </tr>\n",
              "    <tr>\n",
              "      <th>3</th>\n",
              "      <td>35.0</td>\n",
              "      <td>36857.22</td>\n",
              "      <td>14</td>\n",
              "      <td>2.0</td>\n",
              "      <td>19.0</td>\n",
              "      <td>12.0</td>\n",
              "      <td>1911.65</td>\n",
              "      <td>10.1</td>\n",
              "      <td>56.042521</td>\n",
              "      <td>170.966996</td>\n",
              "      <td>...</td>\n",
              "      <td>1.0</td>\n",
              "      <td>0.0</td>\n",
              "      <td>0.0</td>\n",
              "      <td>0.0</td>\n",
              "      <td>0.0</td>\n",
              "      <td>0.0</td>\n",
              "      <td>0.0</td>\n",
              "      <td>1.0</td>\n",
              "      <td>0.0</td>\n",
              "      <td>1.0</td>\n",
              "    </tr>\n",
              "    <tr>\n",
              "      <th>4</th>\n",
              "      <td>28.0</td>\n",
              "      <td>33787.30</td>\n",
              "      <td>34</td>\n",
              "      <td>6.0</td>\n",
              "      <td>44.0</td>\n",
              "      <td>15.0</td>\n",
              "      <td>2813.15</td>\n",
              "      <td>7.1</td>\n",
              "      <td>101.553158</td>\n",
              "      <td>375.547953</td>\n",
              "      <td>...</td>\n",
              "      <td>0.0</td>\n",
              "      <td>1.0</td>\n",
              "      <td>0.0</td>\n",
              "      <td>0.0</td>\n",
              "      <td>0.0</td>\n",
              "      <td>0.0</td>\n",
              "      <td>0.0</td>\n",
              "      <td>1.0</td>\n",
              "      <td>0.0</td>\n",
              "      <td>0.0</td>\n",
              "    </tr>\n",
              "    <tr>\n",
              "      <th>...</th>\n",
              "      <td>...</td>\n",
              "      <td>...</td>\n",
              "      <td>...</td>\n",
              "      <td>...</td>\n",
              "      <td>...</td>\n",
              "      <td>...</td>\n",
              "      <td>...</td>\n",
              "      <td>...</td>\n",
              "      <td>...</td>\n",
              "      <td>...</td>\n",
              "      <td>...</td>\n",
              "      <td>...</td>\n",
              "      <td>...</td>\n",
              "      <td>...</td>\n",
              "      <td>...</td>\n",
              "      <td>...</td>\n",
              "      <td>...</td>\n",
              "      <td>...</td>\n",
              "      <td>...</td>\n",
              "      <td>...</td>\n",
              "      <td>...</td>\n",
              "    </tr>\n",
              "    <tr>\n",
              "      <th>19825</th>\n",
              "      <td>27.0</td>\n",
              "      <td>10494.44</td>\n",
              "      <td>7</td>\n",
              "      <td>6.0</td>\n",
              "      <td>14.0</td>\n",
              "      <td>11.0</td>\n",
              "      <td>2579.62</td>\n",
              "      <td>15.4</td>\n",
              "      <td>46.160211</td>\n",
              "      <td>294.909596</td>\n",
              "      <td>...</td>\n",
              "      <td>0.0</td>\n",
              "      <td>0.0</td>\n",
              "      <td>0.0</td>\n",
              "      <td>0.0</td>\n",
              "      <td>0.0</td>\n",
              "      <td>1.0</td>\n",
              "      <td>0.0</td>\n",
              "      <td>0.0</td>\n",
              "      <td>0.0</td>\n",
              "      <td>1.0</td>\n",
              "    </tr>\n",
              "    <tr>\n",
              "      <th>19826</th>\n",
              "      <td>19.0</td>\n",
              "      <td>52797.30</td>\n",
              "      <td>33</td>\n",
              "      <td>5.0</td>\n",
              "      <td>60.0</td>\n",
              "      <td>17.0</td>\n",
              "      <td>2563.97</td>\n",
              "      <td>6.4</td>\n",
              "      <td>209.932888</td>\n",
              "      <td>121.005455</td>\n",
              "      <td>...</td>\n",
              "      <td>0.0</td>\n",
              "      <td>0.0</td>\n",
              "      <td>1.0</td>\n",
              "      <td>0.0</td>\n",
              "      <td>0.0</td>\n",
              "      <td>1.0</td>\n",
              "      <td>0.0</td>\n",
              "      <td>0.0</td>\n",
              "      <td>1.0</td>\n",
              "      <td>0.0</td>\n",
              "    </tr>\n",
              "    <tr>\n",
              "      <th>19827</th>\n",
              "      <td>21.0</td>\n",
              "      <td>16944.54</td>\n",
              "      <td>16</td>\n",
              "      <td>0.0</td>\n",
              "      <td>17.0</td>\n",
              "      <td>20.0</td>\n",
              "      <td>1066.99</td>\n",
              "      <td>32.4</td>\n",
              "      <td>0.000000</td>\n",
              "      <td>349.141610</td>\n",
              "      <td>...</td>\n",
              "      <td>0.0</td>\n",
              "      <td>0.0</td>\n",
              "      <td>0.0</td>\n",
              "      <td>0.0</td>\n",
              "      <td>0.0</td>\n",
              "      <td>0.0</td>\n",
              "      <td>0.0</td>\n",
              "      <td>1.0</td>\n",
              "      <td>2.0</td>\n",
              "      <td>2.0</td>\n",
              "    </tr>\n",
              "    <tr>\n",
              "      <th>19828</th>\n",
              "      <td>55.0</td>\n",
              "      <td>107677.98</td>\n",
              "      <td>12</td>\n",
              "      <td>2.0</td>\n",
              "      <td>11.0</td>\n",
              "      <td>9.0</td>\n",
              "      <td>877.65</td>\n",
              "      <td>25.8</td>\n",
              "      <td>99.790794</td>\n",
              "      <td>141.859277</td>\n",
              "      <td>...</td>\n",
              "      <td>0.0</td>\n",
              "      <td>0.0</td>\n",
              "      <td>0.0</td>\n",
              "      <td>0.0</td>\n",
              "      <td>0.0</td>\n",
              "      <td>0.0</td>\n",
              "      <td>1.0</td>\n",
              "      <td>0.0</td>\n",
              "      <td>0.0</td>\n",
              "      <td>1.0</td>\n",
              "    </tr>\n",
              "    <tr>\n",
              "      <th>19829</th>\n",
              "      <td>47.0</td>\n",
              "      <td>19277.13</td>\n",
              "      <td>11</td>\n",
              "      <td>1.0</td>\n",
              "      <td>6.0</td>\n",
              "      <td>14.0</td>\n",
              "      <td>935.74</td>\n",
              "      <td>22.1</td>\n",
              "      <td>8.039939</td>\n",
              "      <td>390.555076</td>\n",
              "      <td>...</td>\n",
              "      <td>0.0</td>\n",
              "      <td>0.0</td>\n",
              "      <td>0.0</td>\n",
              "      <td>0.0</td>\n",
              "      <td>0.0</td>\n",
              "      <td>0.0</td>\n",
              "      <td>1.0</td>\n",
              "      <td>0.0</td>\n",
              "      <td>5.0</td>\n",
              "      <td>2.0</td>\n",
              "    </tr>\n",
              "  </tbody>\n",
              "</table>\n",
              "<p>19830 rows × 30 columns</p>\n",
              "</div>\n",
              "    <div class=\"colab-df-buttons\">\n",
              "\n",
              "  <div class=\"colab-df-container\">\n",
              "    <button class=\"colab-df-convert\" onclick=\"convertToInteractive('df-be1ae9b8-686e-4c1f-8f3e-a435bcfd92fd')\"\n",
              "            title=\"Convert this dataframe to an interactive table.\"\n",
              "            style=\"display:none;\">\n",
              "\n",
              "  <svg xmlns=\"http://www.w3.org/2000/svg\" height=\"24px\" viewBox=\"0 -960 960 960\">\n",
              "    <path d=\"M120-120v-720h720v720H120Zm60-500h600v-160H180v160Zm220 220h160v-160H400v160Zm0 220h160v-160H400v160ZM180-400h160v-160H180v160Zm440 0h160v-160H620v160ZM180-180h160v-160H180v160Zm440 0h160v-160H620v160Z\"/>\n",
              "  </svg>\n",
              "    </button>\n",
              "\n",
              "  <style>\n",
              "    .colab-df-container {\n",
              "      display:flex;\n",
              "      gap: 12px;\n",
              "    }\n",
              "\n",
              "    .colab-df-convert {\n",
              "      background-color: #E8F0FE;\n",
              "      border: none;\n",
              "      border-radius: 50%;\n",
              "      cursor: pointer;\n",
              "      display: none;\n",
              "      fill: #1967D2;\n",
              "      height: 32px;\n",
              "      padding: 0 0 0 0;\n",
              "      width: 32px;\n",
              "    }\n",
              "\n",
              "    .colab-df-convert:hover {\n",
              "      background-color: #E2EBFA;\n",
              "      box-shadow: 0px 1px 2px rgba(60, 64, 67, 0.3), 0px 1px 3px 1px rgba(60, 64, 67, 0.15);\n",
              "      fill: #174EA6;\n",
              "    }\n",
              "\n",
              "    .colab-df-buttons div {\n",
              "      margin-bottom: 4px;\n",
              "    }\n",
              "\n",
              "    [theme=dark] .colab-df-convert {\n",
              "      background-color: #3B4455;\n",
              "      fill: #D2E3FC;\n",
              "    }\n",
              "\n",
              "    [theme=dark] .colab-df-convert:hover {\n",
              "      background-color: #434B5C;\n",
              "      box-shadow: 0px 1px 3px 1px rgba(0, 0, 0, 0.15);\n",
              "      filter: drop-shadow(0px 1px 2px rgba(0, 0, 0, 0.3));\n",
              "      fill: #FFFFFF;\n",
              "    }\n",
              "  </style>\n",
              "\n",
              "    <script>\n",
              "      const buttonEl =\n",
              "        document.querySelector('#df-be1ae9b8-686e-4c1f-8f3e-a435bcfd92fd button.colab-df-convert');\n",
              "      buttonEl.style.display =\n",
              "        google.colab.kernel.accessAllowed ? 'block' : 'none';\n",
              "\n",
              "      async function convertToInteractive(key) {\n",
              "        const element = document.querySelector('#df-be1ae9b8-686e-4c1f-8f3e-a435bcfd92fd');\n",
              "        const dataTable =\n",
              "          await google.colab.kernel.invokeFunction('convertToInteractive',\n",
              "                                                    [key], {});\n",
              "        if (!dataTable) return;\n",
              "\n",
              "        const docLinkHtml = 'Like what you see? Visit the ' +\n",
              "          '<a target=\"_blank\" href=https://colab.research.google.com/notebooks/data_table.ipynb>data table notebook</a>'\n",
              "          + ' to learn more about interactive tables.';\n",
              "        element.innerHTML = '';\n",
              "        dataTable['output_type'] = 'display_data';\n",
              "        await google.colab.output.renderOutput(dataTable, element);\n",
              "        const docLink = document.createElement('div');\n",
              "        docLink.innerHTML = docLinkHtml;\n",
              "        element.appendChild(docLink);\n",
              "      }\n",
              "    </script>\n",
              "  </div>\n",
              "\n",
              "\n",
              "<div id=\"df-a089a8a7-a678-4205-9b5a-8c3a1a98cbea\">\n",
              "  <button class=\"colab-df-quickchart\" onclick=\"quickchart('df-a089a8a7-a678-4205-9b5a-8c3a1a98cbea')\"\n",
              "            title=\"Suggest charts\"\n",
              "            style=\"display:none;\">\n",
              "\n",
              "<svg xmlns=\"http://www.w3.org/2000/svg\" height=\"24px\"viewBox=\"0 0 24 24\"\n",
              "     width=\"24px\">\n",
              "    <g>\n",
              "        <path d=\"M19 3H5c-1.1 0-2 .9-2 2v14c0 1.1.9 2 2 2h14c1.1 0 2-.9 2-2V5c0-1.1-.9-2-2-2zM9 17H7v-7h2v7zm4 0h-2V7h2v10zm4 0h-2v-4h2v4z\"/>\n",
              "    </g>\n",
              "</svg>\n",
              "  </button>\n",
              "\n",
              "<style>\n",
              "  .colab-df-quickchart {\n",
              "      --bg-color: #E8F0FE;\n",
              "      --fill-color: #1967D2;\n",
              "      --hover-bg-color: #E2EBFA;\n",
              "      --hover-fill-color: #174EA6;\n",
              "      --disabled-fill-color: #AAA;\n",
              "      --disabled-bg-color: #DDD;\n",
              "  }\n",
              "\n",
              "  [theme=dark] .colab-df-quickchart {\n",
              "      --bg-color: #3B4455;\n",
              "      --fill-color: #D2E3FC;\n",
              "      --hover-bg-color: #434B5C;\n",
              "      --hover-fill-color: #FFFFFF;\n",
              "      --disabled-bg-color: #3B4455;\n",
              "      --disabled-fill-color: #666;\n",
              "  }\n",
              "\n",
              "  .colab-df-quickchart {\n",
              "    background-color: var(--bg-color);\n",
              "    border: none;\n",
              "    border-radius: 50%;\n",
              "    cursor: pointer;\n",
              "    display: none;\n",
              "    fill: var(--fill-color);\n",
              "    height: 32px;\n",
              "    padding: 0;\n",
              "    width: 32px;\n",
              "  }\n",
              "\n",
              "  .colab-df-quickchart:hover {\n",
              "    background-color: var(--hover-bg-color);\n",
              "    box-shadow: 0 1px 2px rgba(60, 64, 67, 0.3), 0 1px 3px 1px rgba(60, 64, 67, 0.15);\n",
              "    fill: var(--button-hover-fill-color);\n",
              "  }\n",
              "\n",
              "  .colab-df-quickchart-complete:disabled,\n",
              "  .colab-df-quickchart-complete:disabled:hover {\n",
              "    background-color: var(--disabled-bg-color);\n",
              "    fill: var(--disabled-fill-color);\n",
              "    box-shadow: none;\n",
              "  }\n",
              "\n",
              "  .colab-df-spinner {\n",
              "    border: 2px solid var(--fill-color);\n",
              "    border-color: transparent;\n",
              "    border-bottom-color: var(--fill-color);\n",
              "    animation:\n",
              "      spin 1s steps(1) infinite;\n",
              "  }\n",
              "\n",
              "  @keyframes spin {\n",
              "    0% {\n",
              "      border-color: transparent;\n",
              "      border-bottom-color: var(--fill-color);\n",
              "      border-left-color: var(--fill-color);\n",
              "    }\n",
              "    20% {\n",
              "      border-color: transparent;\n",
              "      border-left-color: var(--fill-color);\n",
              "      border-top-color: var(--fill-color);\n",
              "    }\n",
              "    30% {\n",
              "      border-color: transparent;\n",
              "      border-left-color: var(--fill-color);\n",
              "      border-top-color: var(--fill-color);\n",
              "      border-right-color: var(--fill-color);\n",
              "    }\n",
              "    40% {\n",
              "      border-color: transparent;\n",
              "      border-right-color: var(--fill-color);\n",
              "      border-top-color: var(--fill-color);\n",
              "    }\n",
              "    60% {\n",
              "      border-color: transparent;\n",
              "      border-right-color: var(--fill-color);\n",
              "    }\n",
              "    80% {\n",
              "      border-color: transparent;\n",
              "      border-right-color: var(--fill-color);\n",
              "      border-bottom-color: var(--fill-color);\n",
              "    }\n",
              "    90% {\n",
              "      border-color: transparent;\n",
              "      border-bottom-color: var(--fill-color);\n",
              "    }\n",
              "  }\n",
              "</style>\n",
              "\n",
              "  <script>\n",
              "    async function quickchart(key) {\n",
              "      const quickchartButtonEl =\n",
              "        document.querySelector('#' + key + ' button');\n",
              "      quickchartButtonEl.disabled = true;  // To prevent multiple clicks.\n",
              "      quickchartButtonEl.classList.add('colab-df-spinner');\n",
              "      try {\n",
              "        const charts = await google.colab.kernel.invokeFunction(\n",
              "            'suggestCharts', [key], {});\n",
              "      } catch (error) {\n",
              "        console.error('Error during call to suggestCharts:', error);\n",
              "      }\n",
              "      quickchartButtonEl.classList.remove('colab-df-spinner');\n",
              "      quickchartButtonEl.classList.add('colab-df-quickchart-complete');\n",
              "    }\n",
              "    (() => {\n",
              "      let quickchartButtonEl =\n",
              "        document.querySelector('#df-a089a8a7-a678-4205-9b5a-8c3a1a98cbea button');\n",
              "      quickchartButtonEl.style.display =\n",
              "        google.colab.kernel.accessAllowed ? 'block' : 'none';\n",
              "    })();\n",
              "  </script>\n",
              "</div>\n",
              "\n",
              "  <div id=\"id_2c0d82fb-6a56-4d27-84f0-c5b9722c5512\">\n",
              "    <style>\n",
              "      .colab-df-generate {\n",
              "        background-color: #E8F0FE;\n",
              "        border: none;\n",
              "        border-radius: 50%;\n",
              "        cursor: pointer;\n",
              "        display: none;\n",
              "        fill: #1967D2;\n",
              "        height: 32px;\n",
              "        padding: 0 0 0 0;\n",
              "        width: 32px;\n",
              "      }\n",
              "\n",
              "      .colab-df-generate:hover {\n",
              "        background-color: #E2EBFA;\n",
              "        box-shadow: 0px 1px 2px rgba(60, 64, 67, 0.3), 0px 1px 3px 1px rgba(60, 64, 67, 0.15);\n",
              "        fill: #174EA6;\n",
              "      }\n",
              "\n",
              "      [theme=dark] .colab-df-generate {\n",
              "        background-color: #3B4455;\n",
              "        fill: #D2E3FC;\n",
              "      }\n",
              "\n",
              "      [theme=dark] .colab-df-generate:hover {\n",
              "        background-color: #434B5C;\n",
              "        box-shadow: 0px 1px 3px 1px rgba(0, 0, 0, 0.15);\n",
              "        filter: drop-shadow(0px 1px 2px rgba(0, 0, 0, 0.3));\n",
              "        fill: #FFFFFF;\n",
              "      }\n",
              "    </style>\n",
              "    <button class=\"colab-df-generate\" onclick=\"generateWithVariable('df_test')\"\n",
              "            title=\"Generate code using this dataframe.\"\n",
              "            style=\"display:none;\">\n",
              "\n",
              "  <svg xmlns=\"http://www.w3.org/2000/svg\" height=\"24px\"viewBox=\"0 0 24 24\"\n",
              "       width=\"24px\">\n",
              "    <path d=\"M7,19H8.4L18.45,9,17,7.55,7,17.6ZM5,21V16.75L18.45,3.32a2,2,0,0,1,2.83,0l1.4,1.43a1.91,1.91,0,0,1,.58,1.4,1.91,1.91,0,0,1-.58,1.4L9.25,21ZM18.45,9,17,7.55Zm-12,3A5.31,5.31,0,0,0,4.9,8.1,5.31,5.31,0,0,0,1,6.5,5.31,5.31,0,0,0,4.9,4.9,5.31,5.31,0,0,0,6.5,1,5.31,5.31,0,0,0,8.1,4.9,5.31,5.31,0,0,0,12,6.5,5.46,5.46,0,0,0,6.5,12Z\"/>\n",
              "  </svg>\n",
              "    </button>\n",
              "    <script>\n",
              "      (() => {\n",
              "      const buttonEl =\n",
              "        document.querySelector('#id_2c0d82fb-6a56-4d27-84f0-c5b9722c5512 button.colab-df-generate');\n",
              "      buttonEl.style.display =\n",
              "        google.colab.kernel.accessAllowed ? 'block' : 'none';\n",
              "\n",
              "      buttonEl.onclick = () => {\n",
              "        google.colab.notebook.generateWithVariable('df_test');\n",
              "      }\n",
              "      })();\n",
              "    </script>\n",
              "  </div>\n",
              "\n",
              "    </div>\n",
              "  </div>\n"
            ],
            "application/vnd.google.colaboratory.intrinsic+json": {
              "type": "dataframe",
              "variable_name": "df_test"
            }
          },
          "metadata": {},
          "execution_count": 8
        }
      ]
    },
    {
      "cell_type": "code",
      "source": [
        "x_test= df_test.iloc[:,:-1]\n"
      ],
      "metadata": {
        "id": "kg18QQ-VrAKw"
      },
      "execution_count": 9,
      "outputs": []
    },
    {
      "cell_type": "code",
      "source": [
        "y_test= pd.DataFrame(df_test.iloc[:,-1])\n"
      ],
      "metadata": {
        "id": "slgtXlcEq_5d"
      },
      "execution_count": 10,
      "outputs": []
    },
    {
      "cell_type": "markdown",
      "source": [
        "----------------------\n",
        "\n",
        "# `05` Linear Support Vector Machine Classifier\n",
        "\n",
        "Using `sklearn` implementation of linear support vector machine classifiers to model the data.\n",
        "\n",
        "Hint: Look for `sklearn.svm.LinearSVC` class."
      ],
      "metadata": {
        "id": "byE8HWEnGX9T"
      }
    },
    {
      "cell_type": "markdown",
      "source": [
        "## `i` Baseline Model Training\n",
        "\n",
        "Initializing the model with initial parameters, fitting it to the training data, and get a baseline model.\n",
        "\n",
        "Use:\n",
        "- `random_state` $= 1234$"
      ],
      "metadata": {
        "id": "1731lOYIHPNw"
      }
    },
    {
      "cell_type": "code",
      "source": [
        "class_names = ['Poor', 'Standard', 'Good']\n",
        "y_train.columns = y_train.columns.astype(str)\n",
        "y_train = np.ravel(y_train)\n",
        "\n",
        "model = LinearSVC (random_state=1234, max_iter= 30000).fit(x_scaled,y_train)"
      ],
      "metadata": {
        "id": "5HaoLxdUHKUm",
        "colab": {
          "base_uri": "https://localhost:8080/"
        },
        "outputId": "76b842fc-b777-401b-eb13-41c23efecad6"
      },
      "execution_count": 11,
      "outputs": [
        {
          "output_type": "stream",
          "name": "stderr",
          "text": [
            "/usr/local/lib/python3.10/dist-packages/sklearn/svm/_base.py:1244: ConvergenceWarning: Liblinear failed to converge, increase the number of iterations.\n",
            "  warnings.warn(\n"
          ]
        }
      ]
    },
    {
      "cell_type": "code",
      "source": [
        "class_weights={0.0: 1, 1.0 :1, 2.0 :100}"
      ],
      "metadata": {
        "id": "q6riE-_kAgSs"
      },
      "execution_count": 12,
      "outputs": []
    },
    {
      "cell_type": "code",
      "source": [
        "y_train\n"
      ],
      "metadata": {
        "id": "KVe723EGLE-c",
        "colab": {
          "base_uri": "https://localhost:8080/"
        },
        "outputId": "61717df2-1840-4eec-9bc9-84151a6c4938"
      },
      "execution_count": 13,
      "outputs": [
        {
          "output_type": "execute_result",
          "data": {
            "text/plain": [
              "array([0., 2., 0., ..., 1., 2., 1.])"
            ]
          },
          "metadata": {},
          "execution_count": 13
        }
      ]
    },
    {
      "cell_type": "code",
      "source": [
        "model2= LinearSVC (random_state=1234, max_iter= 30000, class_weight= 'balanced' ).fit(x_scaled,y_train)"
      ],
      "metadata": {
        "id": "cS1_L1VDBA8L",
        "colab": {
          "base_uri": "https://localhost:8080/"
        },
        "outputId": "4f30f31a-9cfd-4b3f-94d2-98508e18e668"
      },
      "execution_count": 14,
      "outputs": [
        {
          "output_type": "stream",
          "name": "stderr",
          "text": [
            "/usr/local/lib/python3.10/dist-packages/sklearn/svm/_base.py:1244: ConvergenceWarning: Liblinear failed to converge, increase the number of iterations.\n",
            "  warnings.warn(\n"
          ]
        }
      ]
    },
    {
      "cell_type": "markdown",
      "source": [
        "## `ii` Model Evaluation\n",
        "\n",
        "Evaluate the baseline model performance using classification metrics, e.g. **Accuracy**, **Precision**, $F_1 \\space Score$, **Confusion Matrix** etc.\n",
        "\n",
        "Which metric is more reliable?"
      ],
      "metadata": {
        "id": "p8iTFl8UHK1T"
      }
    },
    {
      "cell_type": "code",
      "source": [
        "print(classification_report(y_train, model.predict(x_scaled), target_names=class_names, digits=4))"
      ],
      "metadata": {
        "id": "nQOtqp-iIHUY",
        "colab": {
          "base_uri": "https://localhost:8080/"
        },
        "outputId": "274a6230-cc53-47ef-d493-0e389e1ada2c"
      },
      "execution_count": 15,
      "outputs": [
        {
          "output_type": "stream",
          "name": "stdout",
          "text": [
            "              precision    recall  f1-score   support\n",
            "\n",
            "        Poor     0.5729    0.3738    0.4524     13514\n",
            "    Standard     0.5647    0.8471    0.6776     24768\n",
            "        Good     0.5512    0.0360    0.0675      8228\n",
            "\n",
            "    accuracy                         0.5661     46510\n",
            "   macro avg     0.5629    0.4190    0.3992     46510\n",
            "weighted avg     0.5647    0.5661    0.5043     46510\n",
            "\n"
          ]
        }
      ]
    },
    {
      "cell_type": "code",
      "source": [
        "print(classification_report(y_train, model2.predict(x_scaled), target_names=class_names, digits=4))"
      ],
      "metadata": {
        "id": "pkRrzBbOA735",
        "colab": {
          "base_uri": "https://localhost:8080/"
        },
        "outputId": "4bf6008a-4bcd-489b-d1f7-be8198edbaae"
      },
      "execution_count": 16,
      "outputs": [
        {
          "output_type": "stream",
          "name": "stdout",
          "text": [
            "              precision    recall  f1-score   support\n",
            "\n",
            "        Poor     0.5996    0.5409    0.5687     13514\n",
            "    Standard     0.6796    0.4934    0.5717     24768\n",
            "        Good     0.3840    0.7623    0.5107      8228\n",
            "\n",
            "    accuracy                         0.5548     46510\n",
            "   macro avg     0.5544    0.5989    0.5504     46510\n",
            "weighted avg     0.6040    0.5548    0.5601     46510\n",
            "\n"
          ]
        }
      ]
    },
    {
      "cell_type": "markdown",
      "source": [
        "----------------------\n",
        "\n",
        "# `06` Kernelized Support Vector Machine Classifier\n",
        "\n",
        "Using `sklearn` implementation of kernelized support vector machine classifiers to model the data.\n",
        "\n",
        "Hint: Look for `sklearn.svm.SVC` class."
      ],
      "metadata": {
        "id": "MzGJvMl40ncp"
      }
    },
    {
      "cell_type": "markdown",
      "source": [
        "## `i` Baseline Model Training\n",
        "\n",
        "Initializing the model with initial parameters, fitting it to the training data, and get a baseline model.\n",
        "\n",
        "Use:\n",
        "- `random_state` $= 1234$\n",
        "- `kernel` = 'linear'"
      ],
      "metadata": {
        "id": "Go-ZAOJk0ndD"
      }
    },
    {
      "cell_type": "code",
      "source": [
        "from sklearn.svm import SVC\n",
        "\n",
        "model_kernel = svm.SVC(kernel='linear',random_state=1234, max_iter= 10000,gamma='auto', class_weight= class_weights ).fit(x_scaled,y_train)"
      ],
      "metadata": {
        "id": "sEIWEqYN0ndD",
        "colab": {
          "base_uri": "https://localhost:8080/"
        },
        "outputId": "d13d886d-7711-4cb2-8090-dfe21f463120"
      },
      "execution_count": 17,
      "outputs": [
        {
          "output_type": "stream",
          "name": "stderr",
          "text": [
            "/usr/local/lib/python3.10/dist-packages/sklearn/svm/_base.py:299: ConvergenceWarning: Solver terminated early (max_iter=10000).  Consider pre-processing your data with StandardScaler or MinMaxScaler.\n",
            "  warnings.warn(\n"
          ]
        }
      ]
    },
    {
      "cell_type": "markdown",
      "source": [
        "## `ii` Model Evaluation\n",
        "\n",
        "Evaluate the baseline model performance using classification metrics, e.g. **Accuracy**, **Precision**, $F_1 \\space Score$, **Confusion Matrix** etc.\n",
        "\n",
        "`Q` Which metric is more reliable?\n",
        "`Q` Compare the results to those of `sklearn.svm.LinearSVC` class. Also, is there a difference in the training time?"
      ],
      "metadata": {
        "id": "eyqZk9W20ndE"
      }
    },
    {
      "cell_type": "code",
      "source": [
        "print(classification_report(y_train, model_kernel.predict(x_scaled), target_names=class_names, digits=4, zero_division =0))"
      ],
      "metadata": {
        "id": "EPqRfn260ndE",
        "colab": {
          "base_uri": "https://localhost:8080/"
        },
        "outputId": "257892ca-9844-4d43-cad2-6f97d2ed6c9b"
      },
      "execution_count": 18,
      "outputs": [
        {
          "output_type": "stream",
          "name": "stdout",
          "text": [
            "              precision    recall  f1-score   support\n",
            "\n",
            "        Poor     0.4429    0.3726    0.4047     13514\n",
            "    Standard     0.5244    0.0672    0.1191     24768\n",
            "        Good     0.2221    0.8632    0.3534      8228\n",
            "\n",
            "    accuracy                         0.2967     46510\n",
            "   macro avg     0.3965    0.4343    0.2924     46510\n",
            "weighted avg     0.4473    0.2967    0.2435     46510\n",
            "\n"
          ]
        }
      ]
    },
    {
      "cell_type": "code",
      "source": [
        "from sklearn.metrics import confusion_matrix\n",
        "cm= confusion_matrix(y_train, model_kernel.predict(x_scaled))\n",
        "cm"
      ],
      "metadata": {
        "id": "wBPC_TuhiHEK",
        "colab": {
          "base_uri": "https://localhost:8080/"
        },
        "outputId": "d7ffd565-c245-45cf-a88c-2030bea23f51"
      },
      "execution_count": 23,
      "outputs": [
        {
          "output_type": "execute_result",
          "data": {
            "text/plain": [
              "array([[ 5035,  1152,  7327],\n",
              "       [ 5563,  1664, 17541],\n",
              "       [  769,   357,  7102]])"
            ]
          },
          "metadata": {},
          "execution_count": 23
        }
      ]
    },
    {
      "cell_type": "code",
      "source": [
        "from sklearn.metrics import ConfusionMatrixDisplay\n",
        "cm_display = ConfusionMatrixDisplay(cm).plot()"
      ],
      "metadata": {
        "colab": {
          "base_uri": "https://localhost:8080/",
          "height": 449
        },
        "id": "Zmq2AUwBJCrl",
        "outputId": "0d79d18b-7903-401a-9b3f-2babf31c5e8e"
      },
      "execution_count": 24,
      "outputs": [
        {
          "output_type": "display_data",
          "data": {
            "text/plain": [
              "<Figure size 640x480 with 2 Axes>"
            ],
            "image/png": "[encoded data removed]"
          },
          "metadata": {}
        }
      ]
    },
    {
      "cell_type": "markdown",
      "source": [
        "## `iii` Kernelization Mode: On\n",
        "\n",
        "Let's try the both `poly` and `rbf` kernels. Use default $C, \\gamma, \\space and/or \\space degree$ parameter(s) for simplicity if you want. Does kernelization make the model better?\n",
        "\n",
        "Which of the two kernels performs better?"
      ],
      "metadata": {
        "id": "SruId9hzJbXH"
      }
    },
    {
      "cell_type": "code",
      "source": [
        "model_kernel_poly = svm.SVC(kernel='poly',random_state=1234, max_iter= -1).fit(x_scaled,y_train)"
      ],
      "metadata": {
        "id": "a4n9kftlIIV4"
      },
      "execution_count": 20,
      "outputs": []
    },
    {
      "cell_type": "code",
      "source": [
        "cm_poly= confusion_matrix(y_train, model_kernel_poly.predict(x_scaled))\n",
        "cm_poly_display = ConfusionMatrixDisplay(cm_poly).plot()"
      ],
      "metadata": {
        "colab": {
          "base_uri": "https://localhost:8080/",
          "height": 449
        },
        "id": "CtNw92EJH0Uv",
        "outputId": "c3ca24fc-dcb9-4216-8310-acd441f0171a"
      },
      "execution_count": 25,
      "outputs": [
        {
          "output_type": "display_data",
          "data": {
            "text/plain": [
              "<Figure size 640x480 with 2 Axes>"
            ],
            "image/png": "[encoded data removed]"
          },
          "metadata": {}
        }
      ]
    },
    {
      "cell_type": "code",
      "source": [
        "print(classification_report(y_train, model_kernel_poly.predict(x_scaled), target_names=class_names, digits=4, zero_division =0))"
      ],
      "metadata": {
        "colab": {
          "base_uri": "https://localhost:8080/"
        },
        "id": "pumaHhZfLRkp",
        "outputId": "fb30ffde-fe24-4db0-be69-83f9873add52"
      },
      "execution_count": 27,
      "outputs": [
        {
          "output_type": "stream",
          "name": "stdout",
          "text": [
            "              precision    recall  f1-score   support\n",
            "\n",
            "        Poor     0.6536    0.6141    0.6332     13514\n",
            "    Standard     0.6351    0.7892    0.7038     24768\n",
            "        Good     0.5872    0.2168    0.3167      8228\n",
            "\n",
            "    accuracy                         0.6370     46510\n",
            "   macro avg     0.6253    0.5400    0.5513     46510\n",
            "weighted avg     0.6320    0.6370    0.6148     46510\n",
            "\n"
          ]
        }
      ]
    },
    {
      "cell_type": "code",
      "source": [
        "model_kernel_rbf = svm.SVC(kernel='rbf',random_state=1234, max_iter= -1).fit(x_scaled,y_train)"
      ],
      "metadata": {
        "id": "kCfCKqbpajxJ"
      },
      "execution_count": 21,
      "outputs": []
    },
    {
      "cell_type": "code",
      "source": [
        "cm_rbf= confusion_matrix(y_train, model_kernel_rbf.predict(x_scaled))\n",
        "cm_rbf_display = ConfusionMatrixDisplay(cm_rbf).plot()"
      ],
      "metadata": {
        "colab": {
          "base_uri": "https://localhost:8080/",
          "height": 449
        },
        "id": "vzZIymcJH06t",
        "outputId": "f4dd5440-8be1-42e0-ceaf-0b96f5873c76"
      },
      "execution_count": 26,
      "outputs": [
        {
          "output_type": "display_data",
          "data": {
            "text/plain": [
              "<Figure size 640x480 with 2 Axes>"
            ],
            "image/png": "[encoded data removed]"
          },
          "metadata": {}
        }
      ]
    },
    {
      "cell_type": "code",
      "source": [
        "print(classification_report(y_train, model_kernel_rbf.predict(x_scaled), target_names=class_names, digits=4, zero_division =0))"
      ],
      "metadata": {
        "colab": {
          "base_uri": "https://localhost:8080/"
        },
        "id": "SyW_gDrkLhUe",
        "outputId": "bcd50ac7-3a8c-424d-9115-5c3be724a125"
      },
      "execution_count": 28,
      "outputs": [
        {
          "output_type": "stream",
          "name": "stdout",
          "text": [
            "              precision    recall  f1-score   support\n",
            "\n",
            "        Poor     0.6522    0.6386    0.6453     13514\n",
            "    Standard     0.6502    0.7595    0.7006     24768\n",
            "        Good     0.5530    0.2922    0.3823      8228\n",
            "\n",
            "    accuracy                         0.6417     46510\n",
            "   macro avg     0.6185    0.5634    0.5761     46510\n",
            "weighted avg     0.6336    0.6417    0.6282     46510\n",
            "\n"
          ]
        }
      ]
    },
    {
      "cell_type": "markdown",
      "source": [
        "## `iv` Tuning Hyperparameters\n",
        "\n",
        "Try different  $C, \\gamma, \\space and/or \\space degree$ values and evaluate. What is the best hyperparamters value combination?\n",
        "\n",
        "Remember that $alpha=\\frac{1}{C}$ which means less regularization for higher $C$ values.\n",
        "\n",
        "`Hint:` Make sure to tune only relevant hyperparameters per kernel (e.g., don't tune different values for `degree` while using `rbf` kernel)\n",
        "\n",
        "`Note:` You can tune other parameters as you see fit (but make sure you elaborate your reasoning.\n",
        "\n",
        "Hint: You might want to use `sklearn.model_selection.RandomizedSearchCV` or `sklearn.model_selection.GridSearchCV` classes."
      ],
      "metadata": {
        "id": "zFJUaZuDIH1j"
      }
    },
    {
      "cell_type": "code",
      "source": [
        "from sklearn.model_selection import RandomizedSearchCV\n",
        "\n",
        "\n",
        "Model = svm.SVC()\n",
        "\n",
        "param_grid = { 'gamma':['scale','auto'] ,'C':[.00005,.0005,0.005,0.002,.001,0.01], 'kernel':['linear', 'poly', 'rbf'],'decision_function_shape': ['ovo', 'ovr']}\n",
        "\n",
        "# Create the grid search with cross-validation\n",
        "\n",
        "random_search = RandomizedSearchCV (estimator=Model, param_distributions= param_grid, cv=5)\n",
        "random_search.fit(x_scaled, y_train)\n",
        "best_params = random_search.best_params_\n",
        "\n",
        "print(\"Best Parameters:\", best_params)\n"
      ],
      "metadata": {
        "colab": {
          "base_uri": "https://localhost:8080/"
        },
        "id": "wyAurgkiDh4M",
        "outputId": "a8921322-8d3f-4414-8e55-7271bfd198c6"
      },
      "execution_count": 31,
      "outputs": [
        {
          "output_type": "stream",
          "name": "stdout",
          "text": [
            "Best Parameters: {'kernel': 'linear', 'gamma': 'scale', 'decision_function_shape': 'ovo', 'C': 0.005}\n"
          ]
        }
      ]
    },
    {
      "cell_type": "markdown",
      "source": [
        "------------------\n",
        "\n",
        "# `07` Generalization Error\n",
        "\n",
        "Now that we have tuned our solution, to an *extent*, we need to test for a final time on the held out test set."
      ],
      "metadata": {
        "id": "YqLALFTzKx6T"
      }
    },
    {
      "cell_type": "code",
      "source": [
        "x_test_scaled = scaler.transform(x_test)"
      ],
      "metadata": {
        "id": "QWbpc7zlypmt"
      },
      "execution_count": 36,
      "outputs": []
    },
    {
      "cell_type": "code",
      "source": [
        "print(classification_report(y_test, random_search.best_estimator_.predict(x_test_scaled) , target_names=class_names, digits=4, zero_division =0))"
      ],
      "metadata": {
        "id": "ZxU2WqBtLJa0",
        "colab": {
          "base_uri": "https://localhost:8080/"
        },
        "outputId": "5f32fe1d-06e4-4ca0-fb17-b539264a2fb6"
      },
      "execution_count": 43,
      "outputs": [
        {
          "output_type": "stream",
          "name": "stdout",
          "text": [
            "              precision    recall  f1-score   support\n",
            "\n",
            "        Poor     0.5897    0.4267    0.4951      5770\n",
            "    Standard     0.5679    0.8428    0.6785     10548\n",
            "        Good     0.0000    0.0000    0.0000      3512\n",
            "\n",
            "    accuracy                         0.5725     19830\n",
            "   macro avg     0.3859    0.4232    0.3912     19830\n",
            "weighted avg     0.4736    0.5725    0.5050     19830\n",
            "\n"
          ]
        }
      ]
    },
    {
      "cell_type": "markdown",
      "source": [
        "-----------------------------\n",
        "\n",
        "# `Bonus` Better Flow\n",
        "\n",
        "For the model to be production-ready, we need to integrate it into a pipeline along with the data preparation flow.\n",
        "\n",
        "Hint: Look up `sklearn.pipeline.Pipeline` class."
      ],
      "metadata": {
        "id": "sgLHjma5LJ6_"
      }
    },
    {
      "cell_type": "code",
      "source": [],
      "metadata": {
        "id": "jjy-xdz4MgwE"
      },
      "execution_count": 21,
      "outputs": []
    },
    {
      "cell_type": "markdown",
      "source": [
        "----------------------------------------------\n",
        "\n",
        "$$ Wish \\space you \\space all \\space the \\space best \\space ♡ $$\n",
        "$$ Abdelrahman \\space Eid $$"
      ],
      "metadata": {
        "id": "3y_4u6qu6u6D"
      }
    }
  ]
}